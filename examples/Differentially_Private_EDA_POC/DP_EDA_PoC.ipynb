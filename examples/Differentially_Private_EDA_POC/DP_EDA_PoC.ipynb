{
 "cells": [
  {
   "cell_type": "markdown",
   "id": "6e432829",
   "metadata": {},
   "source": [
    "## Proof of Concept for Differentially Private Exploratory Data Analysis \n",
    "\n"
   ]
  },
  {
   "cell_type": "markdown",
   "id": "1d6118e2",
   "metadata": {},
   "source": [
    "**Very basic Implementation based on the concept of Global Differential Privacy**\n",
    "\n",
    "The objective of this notebook is to implement the concept of differential privacy during exploratory data analysis. The global DP approach is followed here, where EDA will be performed on the sensitive dataset locally on the data owner’s computer. Later noise will be added to the results to make them differentially private. \n",
    "\n",
    "In this notebook, we use a prolific library for EDA named pandas profiling. It is a very well-known tool for performing exploratory data analysis. Given a dataset, the library can help us in creating a complete set of analytics in reproducible formats like .html, .json. Here in this example, we will be retrieving aggregates, especially 'mean' from the.json file produced by pandas profiling and add noise to it\n",
    "\n"
   ]
  },
  {
   "cell_type": "markdown",
   "id": "c181cb70",
   "metadata": {},
   "source": [
    "#### Step 1: Import the required librares\n",
    "- Incase of any missing packages, install them using 'pip'"
   ]
  },
  {
   "cell_type": "code",
   "execution_count": 3,
   "id": "2fc94daf",
   "metadata": {},
   "outputs": [],
   "source": [
    "import numpy as np\n",
    "import pandas as pd\n",
    "from pandas_profiling import ProfileReport # to perform EDA\n",
    "import json"
   ]
  },
  {
   "cell_type": "markdown",
   "id": "62366819",
   "metadata": {},
   "source": [
    "#### Step 2: Load the data \n",
    "- We are using the well known \"Titanic Dataset\"\n",
    "- More details about the dataset can be found [here](https://www.kaggle.com/c/titanic/overview)"
   ]
  },
  {
   "cell_type": "code",
   "execution_count": 4,
   "id": "ccf46229",
   "metadata": {},
   "outputs": [
    {
     "data": {
      "text/html": [
       "<div>\n",
       "<style scoped>\n",
       "    .dataframe tbody tr th:only-of-type {\n",
       "        vertical-align: middle;\n",
       "    }\n",
       "\n",
       "    .dataframe tbody tr th {\n",
       "        vertical-align: top;\n",
       "    }\n",
       "\n",
       "    .dataframe thead th {\n",
       "        text-align: right;\n",
       "    }\n",
       "</style>\n",
       "<table border=\"1\" class=\"dataframe\">\n",
       "  <thead>\n",
       "    <tr style=\"text-align: right;\">\n",
       "      <th></th>\n",
       "      <th>Age</th>\n",
       "      <th>Cabin</th>\n",
       "      <th>Embarked</th>\n",
       "      <th>Fare</th>\n",
       "      <th>Name</th>\n",
       "      <th>Parch</th>\n",
       "      <th>PassengerId</th>\n",
       "      <th>Pclass</th>\n",
       "      <th>Sex</th>\n",
       "      <th>SibSp</th>\n",
       "      <th>Survived</th>\n",
       "      <th>Ticket</th>\n",
       "      <th>Title</th>\n",
       "      <th>Family_Size</th>\n",
       "    </tr>\n",
       "  </thead>\n",
       "  <tbody>\n",
       "    <tr>\n",
       "      <th>0</th>\n",
       "      <td>22.0</td>\n",
       "      <td>NaN</td>\n",
       "      <td>S</td>\n",
       "      <td>7.2500</td>\n",
       "      <td>Braund, Mr. Owen Harris</td>\n",
       "      <td>0</td>\n",
       "      <td>1</td>\n",
       "      <td>3</td>\n",
       "      <td>male</td>\n",
       "      <td>1</td>\n",
       "      <td>0.0</td>\n",
       "      <td>A/5 21171</td>\n",
       "      <td>Mr</td>\n",
       "      <td>1</td>\n",
       "    </tr>\n",
       "    <tr>\n",
       "      <th>1</th>\n",
       "      <td>38.0</td>\n",
       "      <td>C85</td>\n",
       "      <td>C</td>\n",
       "      <td>71.2833</td>\n",
       "      <td>Cumings, Mrs. John Bradley (Florence Briggs Th...</td>\n",
       "      <td>0</td>\n",
       "      <td>2</td>\n",
       "      <td>1</td>\n",
       "      <td>female</td>\n",
       "      <td>1</td>\n",
       "      <td>1.0</td>\n",
       "      <td>PC 17599</td>\n",
       "      <td>Mrs</td>\n",
       "      <td>1</td>\n",
       "    </tr>\n",
       "    <tr>\n",
       "      <th>2</th>\n",
       "      <td>26.0</td>\n",
       "      <td>NaN</td>\n",
       "      <td>S</td>\n",
       "      <td>7.9250</td>\n",
       "      <td>Heikkinen, Miss. Laina</td>\n",
       "      <td>0</td>\n",
       "      <td>3</td>\n",
       "      <td>3</td>\n",
       "      <td>female</td>\n",
       "      <td>0</td>\n",
       "      <td>1.0</td>\n",
       "      <td>STON/O2. 3101282</td>\n",
       "      <td>Miss</td>\n",
       "      <td>0</td>\n",
       "    </tr>\n",
       "    <tr>\n",
       "      <th>3</th>\n",
       "      <td>35.0</td>\n",
       "      <td>C123</td>\n",
       "      <td>S</td>\n",
       "      <td>53.1000</td>\n",
       "      <td>Futrelle, Mrs. Jacques Heath (Lily May Peel)</td>\n",
       "      <td>0</td>\n",
       "      <td>4</td>\n",
       "      <td>1</td>\n",
       "      <td>female</td>\n",
       "      <td>1</td>\n",
       "      <td>1.0</td>\n",
       "      <td>113803</td>\n",
       "      <td>Mrs</td>\n",
       "      <td>1</td>\n",
       "    </tr>\n",
       "    <tr>\n",
       "      <th>4</th>\n",
       "      <td>35.0</td>\n",
       "      <td>NaN</td>\n",
       "      <td>S</td>\n",
       "      <td>8.0500</td>\n",
       "      <td>Allen, Mr. William Henry</td>\n",
       "      <td>0</td>\n",
       "      <td>5</td>\n",
       "      <td>3</td>\n",
       "      <td>male</td>\n",
       "      <td>0</td>\n",
       "      <td>0.0</td>\n",
       "      <td>373450</td>\n",
       "      <td>Mr</td>\n",
       "      <td>0</td>\n",
       "    </tr>\n",
       "  </tbody>\n",
       "</table>\n",
       "</div>"
      ],
      "text/plain": [
       "    Age Cabin Embarked     Fare  \\\n",
       "0  22.0   NaN        S   7.2500   \n",
       "1  38.0   C85        C  71.2833   \n",
       "2  26.0   NaN        S   7.9250   \n",
       "3  35.0  C123        S  53.1000   \n",
       "4  35.0   NaN        S   8.0500   \n",
       "\n",
       "                                                Name  Parch  PassengerId  \\\n",
       "0                            Braund, Mr. Owen Harris      0            1   \n",
       "1  Cumings, Mrs. John Bradley (Florence Briggs Th...      0            2   \n",
       "2                             Heikkinen, Miss. Laina      0            3   \n",
       "3       Futrelle, Mrs. Jacques Heath (Lily May Peel)      0            4   \n",
       "4                           Allen, Mr. William Henry      0            5   \n",
       "\n",
       "   Pclass     Sex  SibSp  Survived            Ticket Title  Family_Size  \n",
       "0       3    male      1       0.0         A/5 21171    Mr            1  \n",
       "1       1  female      1       1.0          PC 17599   Mrs            1  \n",
       "2       3  female      0       1.0  STON/O2. 3101282  Miss            0  \n",
       "3       1  female      1       1.0            113803   Mrs            1  \n",
       "4       3    male      0       0.0            373450    Mr            0  "
      ]
     },
     "execution_count": 4,
     "metadata": {},
     "output_type": "execute_result"
    }
   ],
   "source": [
    "url = 'https://raw.githubusercontent.com/OpenMined/PyDP/dev/examples/Tutorial_3-Titanic_demo/titanic_clean.csv'\n",
    "data = pd.read_csv(url,sep=\",\", index_col=0)\n",
    "data.head()\n"
   ]
  },
  {
   "cell_type": "markdown",
   "id": "36c0f42f",
   "metadata": {},
   "source": [
    "#### Step 3: Defining the dp_eda function \n",
    "- It is the heart of this example\n",
    "- The function takes data frame consisting the loaded dataset, attribute whose aggregate (mean in this case) we want, and epsilon (privacy budget, default: 0.5) as input and provides the private and normal aggregates"
   ]
  },
  {
   "cell_type": "code",
   "execution_count": 8,
   "id": "e43ae403",
   "metadata": {},
   "outputs": [],
   "source": [
    "def dp_eda(df, x, epsilon=0.5):\n",
    "    profile = ProfileReport(df, title='DP EDA', explorative=False, progress_bar = False , minimal=True) # Performing EDA on our data using pandas profiling\n",
    "    profile.to_file(\"data_report.json\") # Saving the result as .json file\n",
    "    json_file = open('data_report.json') # Retrieving the data from .json file \n",
    "    jsondata = json.load(json_file)\n",
    "    dp_result = jsondata['variables'][x]['mean'] + np.random.laplace(0,1.0/epsilon) # Adding laplacian noise and making results differentially private\n",
    "    return dp_result, jsondata['variables'][x]['mean']\n",
    "    "
   ]
  },
  {
   "cell_type": "markdown",
   "id": "0f27c81c",
   "metadata": {},
   "source": [
    "#### Step 4: Results \n",
    "- We test the function defined above\n",
    "- For any numerical column in the dataset, we can retrieve private and normal mean\n",
    "- Check the results for various epsilon "
   ]
  },
  {
   "cell_type": "code",
   "execution_count": 9,
   "id": "54e2f777",
   "metadata": {},
   "outputs": [
    {
     "name": "stdout",
     "output_type": "stream",
     "text": [
      "Private Mean of Age: 27.77999073389835, Normal Mean of Age: 29.56239113827349\n"
     ]
    }
   ],
   "source": [
    "x = 'Age'\n",
    "priv_mean, norm_mean = dp_eda(data, x, epsilon = 0.7)\n",
    "print(f\"Private Mean of {x}: {priv_mean}, Normal Mean of {x}: {norm_mean}\")"
   ]
  },
  {
   "cell_type": "markdown",
   "id": "ff4d876d",
   "metadata": {},
   "source": [
    "### Conclusion\n",
    "\n",
    "We made the aggregates obtained from EDA by using pandas-profiling, differential private. Since, it is a POC, only mean is considered among lot of aggregated available in  over a simple dataset\n"
   ]
  }
 ],
 "metadata": {
  "kernelspec": {
   "display_name": "Python 3",
   "language": "python",
   "name": "python3"
  },
  "language_info": {
   "codemirror_mode": {
    "name": "ipython",
    "version": 3
   },
   "file_extension": ".py",
   "mimetype": "text/x-python",
   "name": "python",
   "nbconvert_exporter": "python",
   "pygments_lexer": "ipython3",
   "version": "3.8.0"
  }
 },
 "nbformat": 4,
 "nbformat_minor": 5
}
